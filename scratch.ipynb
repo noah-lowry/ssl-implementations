{
 "cells": [
  {
   "cell_type": "markdown",
   "metadata": {},
   "source": [
    "scratch notebook for testing things"
   ]
  },
  {
   "cell_type": "code",
   "execution_count": 1,
   "metadata": {},
   "outputs": [],
   "source": [
    "import torch\n",
    "import numpy as np\n",
    "from torchvision.datasets import MNIST\n",
    "from torchvision.transforms import v2\n",
    "\n",
    "from implementations.simclr import run_simclr_train\n",
    "from implementations.byol import run_byol_train\n",
    "from implementations.utils import make_simclr_augment_fn"
   ]
  },
  {
   "cell_type": "code",
   "execution_count": 2,
   "metadata": {},
   "outputs": [],
   "source": [
    "def byol_tau_cosine_schedule(state, config):\n",
    "    k = state[\"monitors\"][\"epoch\"][-1]\n",
    "    K = config[\"max_epochs\"]\n",
    "    state[\"tau\"] = 1 - (1-config[\"tau_base\"])*(np.cos(np.pi*k/K)+1)/2\n",
    "\n",
    "def get_default_byol_config():\n",
    "    config = {\n",
    "        \"device\": \"cuda\",\n",
    "        \"max_epochs\": 1000,\n",
    "        \"verbose_epoch\": True,\n",
    "        \n",
    "        \"data_kwargs\": {\n",
    "            \"batch_size\": 4096,\n",
    "            \"drop_last\": True,\n",
    "        },\n",
    "        \"transform\": lambda x: x[0],\n",
    "\n",
    "        \"base_class\": \"resnet50\",\n",
    "        \"base_kwargs\": {\n",
    "            \"n_channels\": 1,\n",
    "        },\n",
    "        \"projection_head_class\": \"byol_default\",\n",
    "        \"projection_head_kwargs\": {\n",
    "            \"in_features\": 2048,\n",
    "            \"out_features\": 256,\n",
    "            \"hidden_dim\": 4096\n",
    "        },\n",
    "        \"predictor_class\": \"byol_default\",\n",
    "        \"predictor_kwargs\": {\n",
    "            \"in_features\": 256,\n",
    "            \"out_features\": 256,\n",
    "            \"hidden_dim\": 4096\n",
    "        },\n",
    "\n",
    "        \"tau_base\": 0.996,\n",
    "        \"optim_class\": \"lars\",\n",
    "        \"optim_kwargs\": {\n",
    "            \"lr\": 0.2,\n",
    "            \"lr_scaling\": \"batch_linear\",\n",
    "            \"weight_decay\": 1.5e-6,\n",
    "            \"trust_coefficient\": 0.001\n",
    "        },\n",
    "        \"scheduler_class\": \"cosine\",\n",
    "        \"scheduler_kwargs\": {},\n",
    "\n",
    "        \"callbacks\": [byol_tau_cosine_schedule],\n",
    "        \"monitor_names\": []\n",
    "    }\n",
    "    return config"
   ]
  },
  {
   "cell_type": "code",
   "execution_count": 3,
   "metadata": {},
   "outputs": [],
   "source": [
    "config = get_default_byol_config()\n",
    "config[\"augment_fn\"] = make_simclr_augment_fn(\n",
    "    image_size=(28, 28),\n",
    "    do_color_distort=False,\n",
    "    crop_scale=(0.2, 1)\n",
    ")\n",
    "\n",
    "dataset = MNIST(\n",
    "    root=\"./data\",\n",
    "    train=True,\n",
    "    transform=v2.Compose([\n",
    "        v2.PILToTensor(),\n",
    "        v2.ToDtype(torch.float32, scale=True)\n",
    "    ]),\n",
    "    download=True\n",
    ")"
   ]
  },
  {
   "cell_type": "code",
   "execution_count": null,
   "metadata": {},
   "outputs": [
    {
     "name": "stderr",
     "output_type": "stream",
     "text": [
      "Training:   0%|          | 5/1000 [05:09<17:05:52, 61.86s/epoch, epoch=5, train_loss=1.64]"
     ]
    }
   ],
   "source": [
    "result = run_byol_train(dataset, config)"
   ]
  }
 ],
 "metadata": {
  "kernelspec": {
   "display_name": "mlenv2",
   "language": "python",
   "name": "python3"
  },
  "language_info": {
   "codemirror_mode": {
    "name": "ipython",
    "version": 3
   },
   "file_extension": ".py",
   "mimetype": "text/x-python",
   "name": "python",
   "nbconvert_exporter": "python",
   "pygments_lexer": "ipython3",
   "version": "3.9.21"
  }
 },
 "nbformat": 4,
 "nbformat_minor": 2
}
