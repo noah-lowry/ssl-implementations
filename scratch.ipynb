{
 "cells": [
  {
   "cell_type": "markdown",
   "metadata": {},
   "source": [
    "scratch notebook for testing things"
   ]
  },
  {
   "cell_type": "code",
   "execution_count": 1,
   "metadata": {},
   "outputs": [],
   "source": [
    "import torch\n",
    "import numpy as np\n",
    "from torchvision.datasets import MNIST\n",
    "from torchvision.transforms import v2\n",
    "\n",
    "from implementations.simclr import run_simclr_train, make_simclr_augment_fn, make_new_state"
   ]
  },
  {
   "cell_type": "code",
   "execution_count": 2,
   "metadata": {},
   "outputs": [],
   "source": [
    "def get_default_simclr_config():\n",
    "    config = {\n",
    "        \"device\": \"cuda\",\n",
    "        \"max_epochs\": 100,\n",
    "        \"verbose_epoch\": True,\n",
    "        \n",
    "        \"data_kwargs\": {\n",
    "            \"batch_size\": 4096,\n",
    "            \"drop_last\": True,\n",
    "        },\n",
    "        \"transform\": lambda x: x[0],\n",
    "        \"augment_fn\": make_simclr_augment_fn(\n",
    "            image_size=(28, 28),\n",
    "            do_color_distort=False,\n",
    "            crop_scale=(0.2, 1)\n",
    "        ),\n",
    "\n",
    "        \"base_class\": \"resnet50\",\n",
    "        \"base_kwargs\": {\n",
    "            \"n_channels\": 1,\n",
    "        },\n",
    "        \"projection_head_class\": \"simclr_default\",\n",
    "        \"projection_head_kwargs\": {\n",
    "            \"in_features\": 2048\n",
    "        },\n",
    "\n",
    "        \"tau\": 0.5,\n",
    "        \"optim_class\": \"adamw\",\n",
    "        \"optim_kwargs\": {\n",
    "            \"lr\": 0.3,\n",
    "            \"lr_scaling\": \"batch_linear\",\n",
    "            \"weight_decay\": 1e-6,\n",
    "            \"amsgrad\": True\n",
    "        },\n",
    "        \"scheduler_class\": \"linear_to_cosine\",\n",
    "        \"scheduler_kwargs\": {\n",
    "            \"warmup_iters\": 10\n",
    "        },\n",
    "\n",
    "        \"callbacks\": [],\n",
    "        \"monitor_names\": []\n",
    "    }\n",
    "    return config"
   ]
  },
  {
   "cell_type": "code",
   "execution_count": 3,
   "metadata": {},
   "outputs": [],
   "source": [
    "config = get_default_simclr_config()\n",
    "\n",
    "dataset = MNIST(\n",
    "    root=\"./data\",\n",
    "    train=True,\n",
    "    transform=v2.Compose([\n",
    "        v2.PILToTensor(),\n",
    "        v2.ToDtype(torch.float32, scale=True)\n",
    "    ]),\n",
    "    download=True\n",
    ")"
   ]
  },
  {
   "cell_type": "code",
   "execution_count": null,
   "metadata": {},
   "outputs": [
    {
     "name": "stderr",
     "output_type": "stream",
     "text": [
      "Training:   5%|▌         | 5/100 [04:53<1:32:12, 58.23s/epoch, epoch=5, train_loss=8.31]"
     ]
    }
   ],
   "source": [
    "result = run_simclr_train(dataset, config)"
   ]
  }
 ],
 "metadata": {
  "kernelspec": {
   "display_name": "mlenv2",
   "language": "python",
   "name": "python3"
  },
  "language_info": {
   "codemirror_mode": {
    "name": "ipython",
    "version": 3
   },
   "file_extension": ".py",
   "mimetype": "text/x-python",
   "name": "python",
   "nbconvert_exporter": "python",
   "pygments_lexer": "ipython3",
   "version": "3.9.21"
  }
 },
 "nbformat": 4,
 "nbformat_minor": 2
}
